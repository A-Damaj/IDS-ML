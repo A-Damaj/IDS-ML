{
  "cells": [
    {
      "cell_type": "markdown",
      "metadata": {
        "id": "zoP_xLo1dup6"
      },
      "source": [
        "# Setup"
      ]
    },
    {
      "cell_type": "code",
      "execution_count": null,
      "metadata": {
        "colab": {
          "base_uri": "https://localhost:8080/"
        },
        "id": "uWznOP3Zi9_u",
        "outputId": "769549f5-81aa-4c89-a192-e3944036e159"
      },
      "outputs": [
        {
          "name": "stdout",
          "output_type": "stream",
          "text": [
            "Requirement already satisfied: gdown in /usr/local/lib/python3.10/dist-packages (5.1.0)\n",
            "Requirement already satisfied: beautifulsoup4 in /usr/local/lib/python3.10/dist-packages (from gdown) (4.12.3)\n",
            "Requirement already satisfied: filelock in /usr/local/lib/python3.10/dist-packages (from gdown) (3.13.4)\n",
            "Requirement already satisfied: requests[socks] in /usr/local/lib/python3.10/dist-packages (from gdown) (2.31.0)\n",
            "Requirement already satisfied: tqdm in /usr/local/lib/python3.10/dist-packages (from gdown) (4.66.2)\n",
            "Requirement already satisfied: soupsieve>1.2 in /usr/local/lib/python3.10/dist-packages (from beautifulsoup4->gdown) (2.5)\n",
            "Requirement already satisfied: charset-normalizer<4,>=2 in /usr/local/lib/python3.10/dist-packages (from requests[socks]->gdown) (3.3.2)\n",
            "Requirement already satisfied: idna<4,>=2.5 in /usr/local/lib/python3.10/dist-packages (from requests[socks]->gdown) (3.7)\n",
            "Requirement already satisfied: urllib3<3,>=1.21.1 in /usr/local/lib/python3.10/dist-packages (from requests[socks]->gdown) (2.0.7)\n",
            "Requirement already satisfied: certifi>=2017.4.17 in /usr/local/lib/python3.10/dist-packages (from requests[socks]->gdown) (2024.2.2)\n",
            "Requirement already satisfied: PySocks!=1.5.7,>=1.5.6 in /usr/local/lib/python3.10/dist-packages (from requests[socks]->gdown) (1.7.1)\n"
          ]
        }
      ],
      "source": [
        "!pip install gdown\n"
      ]
    },
    {
      "cell_type": "code",
      "execution_count": null,
      "metadata": {
        "colab": {
          "base_uri": "https://localhost:8080/",
          "height": 122
        },
        "id": "5_uq9FlTjE1J",
        "outputId": "a090e637-0ac8-4ab6-fbaa-c1497a0d2168"
      },
      "outputs": [
        {
          "name": "stderr",
          "output_type": "stream",
          "text": [
            "Downloading...\n",
            "From (original): https://drive.google.com/uc?id=1cJECqTj7ExPuwCddrCPB5RTnuk5NKvCF\n",
            "From (redirected): https://drive.google.com/uc?id=1cJECqTj7ExPuwCddrCPB5RTnuk5NKvCF&confirm=t&uuid=ebc6236e-7629-4acc-8c2e-86829c764d3c\n",
            "To: /content/CIC-IDS-2018-Dataset.zip\n",
            "100%|██████████| 1.67G/1.67G [00:20<00:00, 82.7MB/s]\n"
          ]
        },
        {
          "data": {
            "application/vnd.google.colaboratory.intrinsic+json": {
              "type": "string"
            },
            "text/plain": [
              "'CIC-IDS-2018-Dataset.zip'"
            ]
          },
          "execution_count": 2,
          "metadata": {},
          "output_type": "execute_result"
        }
      ],
      "source": [
        "import gdown\n",
        "\n",
        "url = 'https://drive.google.com/uc?id=1cJECqTj7ExPuwCddrCPB5RTnuk5NKvCF'\n",
        "output = 'CIC-IDS-2018-Dataset.zip'  # replace with your output file name and extension\n",
        "gdown.download(url, output, quiet=False)\n"
      ]
    },
    {
      "cell_type": "code",
      "execution_count": null,
      "metadata": {
        "id": "YUs0-VEijE40"
      },
      "outputs": [],
      "source": [
        "import zipfile\n",
        "\n",
        "zip_file = 'CIC-IDS-2018-Dataset.zip'\n",
        "\n",
        "with zipfile.ZipFile(zip_file, 'r') as zip_ref:\n",
        "    zip_ref.extractall('.')\n"
      ]
    },
    {
      "cell_type": "code",
      "execution_count": null,
      "metadata": {
        "colab": {
          "base_uri": "https://localhost:8080/"
        },
        "id": "_32K-UcfjuUl",
        "outputId": "9c7175d9-5144-4cc7-bf52-d4720ae0981e"
      },
      "outputs": [
        {
          "name": "stdout",
          "output_type": "stream",
          "text": [
            "   Dst Port  Protocol            Timestamp  Flow Duration  Tot Fwd Pkts  \\\n",
            "0        22         6  23/02/2018 08:18:29        1532698            11   \n",
            "1       500        17  23/02/2018 08:17:45      117573855             3   \n",
            "2       500        17  23/02/2018 08:17:45      117573848             3   \n",
            "3        22         6  23/02/2018 08:19:55        1745392            11   \n",
            "4       500        17  23/02/2018 08:18:17       89483474             6   \n",
            "\n",
            "   Tot Bwd Pkts  TotLen Fwd Pkts  TotLen Bwd Pkts  Fwd Pkt Len Max  \\\n",
            "0            11             1179             1969              648   \n",
            "1             0             1500                0              500   \n",
            "2             0             1500                0              500   \n",
            "3            11             1179             1969              648   \n",
            "4             0             3000                0              500   \n",
            "\n",
            "   Fwd Pkt Len Min  ...  Fwd Seg Size Min  Active Mean  Active Std  \\\n",
            "0                0  ...                32          0.0         0.0   \n",
            "1              500  ...                 8          0.0         0.0   \n",
            "2              500  ...                 8          0.0         0.0   \n",
            "3                0  ...                32          0.0         0.0   \n",
            "4              500  ...                 8    4000364.0         0.0   \n",
            "\n",
            "   Active Max  Active Min   Idle Mean      Idle Std  Idle Max  Idle Min  \\\n",
            "0           0           0         0.0  0.000000e+00         0         0   \n",
            "1           0           0  58786927.5  2.375324e+07  75583006  41990849   \n",
            "2           0           0  58786924.0  2.375325e+07  75583007  41990841   \n",
            "3           0           0         0.0  0.000000e+00         0         0   \n",
            "4     4000364     4000364  21370777.5  1.528092e+07  41989576   7200485   \n",
            "\n",
            "    Label  \n",
            "0  Benign  \n",
            "1  Benign  \n",
            "2  Benign  \n",
            "3  Benign  \n",
            "4  Benign  \n",
            "\n",
            "[5 rows x 80 columns]\n"
          ]
        }
      ],
      "source": [
        "import pandas as pd\n",
        "\n",
        "file_path = '/content/CIC-IDS-2018-Dataset/Friday-23-02-2018_TrafficForML_CICFlowMeter.csv'\n",
        "data = pd.read_csv(file_path)\n",
        "\n",
        "# Display the first 5 rows of the dataframe\n",
        "print(data.head())\n"
      ]
    },
    {
      "cell_type": "code",
      "execution_count": null,
      "metadata": {
        "colab": {
          "base_uri": "https://localhost:8080/"
        },
        "id": "ROoBqzXf_hHH",
        "outputId": "3fa4e74d-8108-4c2c-ef69-858fdefdbfa4"
      },
      "outputs": [
        {
          "name": "stderr",
          "output_type": "stream",
          "text": [
            "<ipython-input-16-255c2dc31bfb>:5: DtypeWarning: Columns (0,1,3,4,5,6,7,8,9,10,11,12,13,14,15,16,17,18,19,20,21,22,23,24,25,26,27,28,29,30,31,32,33,34,35,36,37,38,39,40,41,42,43,44,45,46,47,48,49,50,51,52,53,54,55,56,57,58,59,60,61,62,63,64,65,66,67,68,69,70,71,72,73,74,75,76,77,78) have mixed types. Specify dtype option on import or set low_memory=False.\n",
            "  data1 = pd.read_csv(file_path2)\n"
          ]
        }
      ],
      "source": [
        "file_path2 = '/content/CIC-IDS-2018-Dataset/Friday-16-02-2018_TrafficForML_CICFlowMeter.csv'\n",
        "data1 = pd.read_csv(file_path2)"
      ]
    },
    {
      "cell_type": "code",
      "execution_count": null,
      "metadata": {
        "colab": {
          "base_uri": "https://localhost:8080/"
        },
        "id": "PeUIQi8EjuWj",
        "outputId": "9c066249-80e0-4331-8057-4c69653f4003"
      },
      "outputs": [
        {
          "name": "stdout",
          "output_type": "stream",
          "text": [
            "Index(['Dst Port', 'Protocol', 'Timestamp', 'Flow Duration', 'Tot Fwd Pkts',\n",
            "       'Tot Bwd Pkts', 'TotLen Fwd Pkts', 'TotLen Bwd Pkts', 'Fwd Pkt Len Max',\n",
            "       'Fwd Pkt Len Min', 'Fwd Pkt Len Mean', 'Fwd Pkt Len Std',\n",
            "       'Bwd Pkt Len Max', 'Bwd Pkt Len Min', 'Bwd Pkt Len Mean',\n",
            "       'Bwd Pkt Len Std', 'Flow Byts/s', 'Flow Pkts/s', 'Flow IAT Mean',\n",
            "       'Flow IAT Std', 'Flow IAT Max', 'Flow IAT Min', 'Fwd IAT Tot',\n",
            "       'Fwd IAT Mean', 'Fwd IAT Std', 'Fwd IAT Max', 'Fwd IAT Min',\n",
            "       'Bwd IAT Tot', 'Bwd IAT Mean', 'Bwd IAT Std', 'Bwd IAT Max',\n",
            "       'Bwd IAT Min', 'Fwd PSH Flags', 'Bwd PSH Flags', 'Fwd URG Flags',\n",
            "       'Bwd URG Flags', 'Fwd Header Len', 'Bwd Header Len', 'Fwd Pkts/s',\n",
            "       'Bwd Pkts/s', 'Pkt Len Min', 'Pkt Len Max', 'Pkt Len Mean',\n",
            "       'Pkt Len Std', 'Pkt Len Var', 'FIN Flag Cnt', 'SYN Flag Cnt',\n",
            "       'RST Flag Cnt', 'PSH Flag Cnt', 'ACK Flag Cnt', 'URG Flag Cnt',\n",
            "       'CWE Flag Count', 'ECE Flag Cnt', 'Down/Up Ratio', 'Pkt Size Avg',\n",
            "       'Fwd Seg Size Avg', 'Bwd Seg Size Avg', 'Fwd Byts/b Avg',\n",
            "       'Fwd Pkts/b Avg', 'Fwd Blk Rate Avg', 'Bwd Byts/b Avg',\n",
            "       'Bwd Pkts/b Avg', 'Bwd Blk Rate Avg', 'Subflow Fwd Pkts',\n",
            "       'Subflow Fwd Byts', 'Subflow Bwd Pkts', 'Subflow Bwd Byts',\n",
            "       'Init Fwd Win Byts', 'Init Bwd Win Byts', 'Fwd Act Data Pkts',\n",
            "       'Fwd Seg Size Min', 'Active Mean', 'Active Std', 'Active Max',\n",
            "       'Active Min', 'Idle Mean', 'Idle Std', 'Idle Max', 'Idle Min', 'Label'],\n",
            "      dtype='object')\n"
          ]
        }
      ],
      "source": [
        "print(data1.columns)"
      ]
    },
    {
      "cell_type": "code",
      "execution_count": null,
      "metadata": {
        "colab": {
          "base_uri": "https://localhost:8080/"
        },
        "id": "Jqd9lBWwyRMA",
        "outputId": "a89c4644-2d05-4e72-c184-0a2553314932"
      },
      "outputs": [
        {
          "data": {
            "text/plain": [
              "array(['Benign', 'DoS attacks-SlowHTTPTest', 'DoS attacks-Hulk', 'Label'],\n",
              "      dtype=object)"
            ]
          },
          "execution_count": 17,
          "metadata": {},
          "output_type": "execute_result"
        }
      ],
      "source": [
        "#data[\"Label\"].unique()\n",
        "data1[\"Label\"].unique()"
      ]
    },
    {
      "cell_type": "code",
      "execution_count": null,
      "metadata": {
        "colab": {
          "base_uri": "https://localhost:8080/"
        },
        "id": "3dd26e7KyRWL",
        "outputId": "29c2d119-621e-48bc-f9de-d0f29a268e81"
      },
      "outputs": [
        {
          "data": {
            "text/plain": [
              "array(['Benign', 'Brute Force -Web', 'Brute Force -XSS', 'SQL Injection'],\n",
              "      dtype=object)"
            ]
          },
          "execution_count": 13,
          "metadata": {},
          "output_type": "execute_result"
        }
      ],
      "source": [
        "data[\"Label\"].unique()"
      ]
    },
    {
      "cell_type": "markdown",
      "metadata": {
        "id": "bkkdSAICdpQl"
      },
      "source": [
        "# Data Exploration"
      ]
    },
    {
      "cell_type": "code",
      "execution_count": null,
      "metadata": {
        "colab": {
          "base_uri": "https://localhost:8080/"
        },
        "id": "KXcVTIAGHcpP",
        "outputId": "d085f439-3072-4423-fda9-3586440c9cf6"
      },
      "outputs": [
        {
          "name": "stdout",
          "output_type": "stream",
          "text": [
            "Wednesday-28-02-2018_TrafficForML_CICFlowMeter.csv\n"
          ]
        },
        {
          "name": "stderr",
          "output_type": "stream",
          "text": [
            "<ipython-input-22-4cc025e97474>:13: DtypeWarning: Columns (0,1,3,4,5,6,7,8,9,10,11,12,13,14,15,16,17,18,19,20,21,22,23,24,25,26,27,28,29,30,31,32,33,34,35,36,37,38,39,40,41,42,43,44,45,46,47,48,49,50,51,52,53,54,55,56,57,58,59,60,61,62,63,64,65,66,67,68,69,70,71,72,73,74,75,76,77,78) have mixed types. Specify dtype option on import or set low_memory=False.\n",
            "  datae = pd.read_csv(file_path)\n"
          ]
        },
        {
          "name": "stdout",
          "output_type": "stream",
          "text": [
            "Unique labels in Wednesday-28-02-2018_TrafficForML_CICFlowMeter.csv: ['Benign' 'Label' 'Infilteration']\n",
            "Benign traffic count in Wednesday-28-02-2018_TrafficForML_CICFlowMeter.csv: 544200\n",
            "Attack traffic count in Wednesday-28-02-2018_TrafficForML_CICFlowMeter.csv: 68904\n",
            "\n",
            "\n",
            "Thursday-01-03-2018_TrafficForML_CICFlowMeter.csv\n"
          ]
        },
        {
          "name": "stderr",
          "output_type": "stream",
          "text": [
            "<ipython-input-22-4cc025e97474>:13: DtypeWarning: Columns (0,1,3,4,5,6,7,8,9,10,11,12,13,14,15,16,17,18,19,20,21,22,23,24,25,26,27,28,29,30,31,32,33,34,35,36,37,38,39,40,41,42,43,44,45,46,47,48,49,50,51,52,53,54,55,56,57,58,59,60,61,62,63,64,65,66,67,68,69,70,71,72,73,74,75,76,77,78) have mixed types. Specify dtype option on import or set low_memory=False.\n",
            "  datae = pd.read_csv(file_path)\n"
          ]
        },
        {
          "name": "stdout",
          "output_type": "stream",
          "text": [
            "Unique labels in Thursday-01-03-2018_TrafficForML_CICFlowMeter.csv: ['Benign' 'Label' 'Infilteration']\n",
            "Benign traffic count in Thursday-01-03-2018_TrafficForML_CICFlowMeter.csv: 238037\n",
            "Attack traffic count in Thursday-01-03-2018_TrafficForML_CICFlowMeter.csv: 93088\n",
            "\n",
            "\n",
            "Wednesday-21-02-2018_TrafficForML_CICFlowMeter.csv\n",
            "Unique labels in Wednesday-21-02-2018_TrafficForML_CICFlowMeter.csv: ['Benign' 'DDOS attack-LOIC-UDP' 'DDOS attack-HOIC']\n",
            "Benign traffic count in Wednesday-21-02-2018_TrafficForML_CICFlowMeter.csv: 360833\n",
            "Attack traffic count in Wednesday-21-02-2018_TrafficForML_CICFlowMeter.csv: 687742\n",
            "\n",
            "\n",
            "Wednesday-14-02-2018_TrafficForML_CICFlowMeter.csv\n",
            "Unique labels in Wednesday-14-02-2018_TrafficForML_CICFlowMeter.csv: ['Benign' 'FTP-BruteForce' 'SSH-Bruteforce']\n",
            "Benign traffic count in Wednesday-14-02-2018_TrafficForML_CICFlowMeter.csv: 667626\n",
            "Attack traffic count in Wednesday-14-02-2018_TrafficForML_CICFlowMeter.csv: 380949\n",
            "\n",
            "\n",
            "Friday-16-02-2018_TrafficForML_CICFlowMeter.csv\n"
          ]
        },
        {
          "name": "stderr",
          "output_type": "stream",
          "text": [
            "<ipython-input-22-4cc025e97474>:13: DtypeWarning: Columns (0,1,3,4,5,6,7,8,9,10,11,12,13,14,15,16,17,18,19,20,21,22,23,24,25,26,27,28,29,30,31,32,33,34,35,36,37,38,39,40,41,42,43,44,45,46,47,48,49,50,51,52,53,54,55,56,57,58,59,60,61,62,63,64,65,66,67,68,69,70,71,72,73,74,75,76,77,78) have mixed types. Specify dtype option on import or set low_memory=False.\n",
            "  datae = pd.read_csv(file_path)\n"
          ]
        },
        {
          "name": "stdout",
          "output_type": "stream",
          "text": [
            "Unique labels in Friday-16-02-2018_TrafficForML_CICFlowMeter.csv: ['Benign' 'DoS attacks-SlowHTTPTest' 'DoS attacks-Hulk' 'Label']\n",
            "Benign traffic count in Friday-16-02-2018_TrafficForML_CICFlowMeter.csv: 446772\n",
            "Attack traffic count in Friday-16-02-2018_TrafficForML_CICFlowMeter.csv: 601803\n",
            "\n",
            "\n",
            "Thursday-22-02-2018_TrafficForML_CICFlowMeter.csv\n",
            "Unique labels in Thursday-22-02-2018_TrafficForML_CICFlowMeter.csv: ['Benign' 'Brute Force -Web' 'Brute Force -XSS' 'SQL Injection']\n",
            "Benign traffic count in Thursday-22-02-2018_TrafficForML_CICFlowMeter.csv: 1048213\n",
            "Attack traffic count in Thursday-22-02-2018_TrafficForML_CICFlowMeter.csv: 362\n",
            "\n",
            "\n",
            "Friday-02-03-2018_TrafficForML_CICFlowMeter.csv\n",
            "Unique labels in Friday-02-03-2018_TrafficForML_CICFlowMeter.csv: ['Benign' 'Bot']\n",
            "Benign traffic count in Friday-02-03-2018_TrafficForML_CICFlowMeter.csv: 762384\n",
            "Attack traffic count in Friday-02-03-2018_TrafficForML_CICFlowMeter.csv: 286191\n",
            "\n",
            "\n",
            "Friday-23-02-2018_TrafficForML_CICFlowMeter.csv\n",
            "Unique labels in Friday-23-02-2018_TrafficForML_CICFlowMeter.csv: ['Benign' 'Brute Force -Web' 'Brute Force -XSS' 'SQL Injection']\n",
            "Benign traffic count in Friday-23-02-2018_TrafficForML_CICFlowMeter.csv: 1048009\n",
            "Attack traffic count in Friday-23-02-2018_TrafficForML_CICFlowMeter.csv: 566\n",
            "\n",
            "\n",
            "Thursday-15-02-2018_TrafficForML_CICFlowMeter.csv\n",
            "Unique labels in Thursday-15-02-2018_TrafficForML_CICFlowMeter.csv: ['Benign' 'DoS attacks-GoldenEye' 'DoS attacks-Slowloris']\n",
            "Benign traffic count in Thursday-15-02-2018_TrafficForML_CICFlowMeter.csv: 996077\n",
            "Attack traffic count in Thursday-15-02-2018_TrafficForML_CICFlowMeter.csv: 52498\n",
            "\n",
            "\n"
          ]
        }
      ],
      "source": [
        "import os\n",
        "import pandas as pd\n",
        "\n",
        "# Directory containing the CSV files\n",
        "directory = '/content/CIC-IDS-2018-Dataset'\n",
        "\n",
        "# Iterate over files in the directory\n",
        "for filename in os.listdir(directory):\n",
        "    if filename.endswith(\".csv\") and filename not in \"/content/CIC-IDS-2018-Dataset/Thuesday-20-02-2018_TrafficForML_CICFlowMeter.csv\":\n",
        "        file_path = os.path.join(directory, filename)\n",
        "        print(filename)\n",
        "        # Load the CSV file into a DataFrame\n",
        "        datae = pd.read_csv(file_path)\n",
        "\n",
        "        # Display unique labels\n",
        "        print(f\"Unique labels in {filename}: {datae['Label'].unique()}\")\n",
        "\n",
        "        # Count benign vs attack traffic\n",
        "        benign_count = (datae['Label'] == 'Benign').sum()\n",
        "        attack_count = (datae['Label'] != 'Benign').sum()\n",
        "\n",
        "        print(f\"Benign traffic count in {filename}: {benign_count}\")\n",
        "        print(f\"Attack traffic count in {filename}: {attack_count}\")\n",
        "        print(\"\\n\")"
      ]
    },
    {
      "cell_type": "markdown",
      "metadata": {
        "id": "UzZthVFld8Hl"
      },
      "source": [
        "# Data Preprocessing"
      ]
    },
    {
      "cell_type": "code",
      "execution_count": null,
      "metadata": {
        "colab": {
          "base_uri": "https://localhost:8080/"
        },
        "id": "wyt7bAYwQlpR",
        "outputId": "7a5d3ec3-f47f-42bb-9174-450479b92159"
      },
      "outputs": [
        {
          "name": "stdout",
          "output_type": "stream",
          "text": [
            "The size of the processed_data.csv file is 0.5458655431866646 GB\n"
          ]
        }
      ],
      "source": [
        "import os\n",
        "import pandas as pd\n",
        "import numpy as np\n",
        "\n",
        "# Define the CSV files and the fractions of benign and attack traffic to keep\n",
        "files_and_fractions = {\n",
        "    'Wednesday-14-02-2018_TrafficForML_CICFlowMeter.csv': {'benign': 0.75, 'attack': 1.0},\n",
        "    'Wednesday-21-02-2018_TrafficForML_CICFlowMeter.csv': {'benign': 0.5, 'attack': 0.67},\n",
        "    'Friday-23-02-2018_TrafficForML_CICFlowMeter.csv': {'benign': 100000/1048009, 'attack': 1.0},\n",
        "    'Thursday-22-02-2018_TrafficForML_CICFlowMeter.csv': {'benign': 100000/1048213, 'attack': 1.0}\n",
        "}\n",
        "\n",
        "combined_data = pd.DataFrame()\n",
        "\n",
        "for filename, fractions in files_and_fractions.items():\n",
        "    file_path = os.path.join('/content/CIC-IDS-2018-Dataset', filename)\n",
        "\n",
        "    # Load the CSV file into a DataFrame\n",
        "    data = pd.read_csv(file_path)\n",
        "\n",
        "    # Remove any rows that are headers\n",
        "    data = data[data['Label'] != 'Label']\n",
        "\n",
        "    # Separate benign and attack traffic\n",
        "    benign = data[data['Label'] == 'Benign']\n",
        "    attack = data[data['Label'] != 'Benign']\n",
        "\n",
        "    # Drop the specified fraction of benign and attack traffic\n",
        "    benign = benign.sample(frac=fractions['benign'], random_state=1)\n",
        "    attack = attack.sample(frac=fractions['attack'], random_state=1)\n",
        "\n",
        "    # Combine the benign and attack traffic and add it to the combined data\n",
        "    combined_data = pd.concat([combined_data, benign, attack])\n",
        "\n",
        "# Reset the index of the combined data\n",
        "combined_data.reset_index(drop=True, inplace=True)\n",
        "\n",
        "columns_to_drop = ['Timestamp']\n",
        "\n",
        "\n",
        "# Drop the specified columns\n",
        "combined_data = combined_data.drop(columns=columns_to_drop)\n",
        "\n",
        "# Save the DataFrame to a new CSV file\n",
        "combined_data.to_csv('processed_data.csv', index=False)\n",
        "\n",
        "# Print the size of the file in GB\n",
        "file_size = os.path.getsize('processed_data.csv') / (1024 * 1024 * 1024)\n",
        "print(f\"The size of the processed_data.csv file is {file_size} GB\")\n"
      ]
    },
    {
      "cell_type": "code",
      "execution_count": null,
      "metadata": {
        "colab": {
          "base_uri": "https://localhost:8080/"
        },
        "id": "llkJ_FAHXrSH",
        "outputId": "446bf26b-c5a8-4d77-e2eb-fb540690457f"
      },
      "outputs": [
        {
          "name": "stdout",
          "output_type": "stream",
          "text": [
            "Drive already mounted at /content/gdrive; to attempt to forcibly remount, call drive.mount(\"/content/gdrive\", force_remount=True).\n"
          ]
        }
      ],
      "source": [
        "from google.colab import drive\n",
        "drive.mount('/content/gdrive')\n",
        "\n",
        "# Save the DataFrame to a new CSV file\n",
        "combined_data.to_csv('/content/gdrive/My Drive/processed_data.csv', index=False)"
      ]
    },
    {
      "cell_type": "code",
      "execution_count": null,
      "metadata": {
        "colab": {
          "base_uri": "https://localhost:8080/"
        },
        "id": "PinFxht_AEr1",
        "outputId": "70e7dda8-0daa-476f-b17c-4ca8fc9bcfc0"
      },
      "outputs": [
        {
          "name": "stdout",
          "output_type": "stream",
          "text": [
            "Drive already mounted at /content/gdrive; to attempt to forcibly remount, call drive.mount(\"/content/gdrive\", force_remount=True).\n"
          ]
        }
      ],
      "source": [
        "from google.colab import drive\n",
        "import os\n",
        "import pandas as pd\n",
        "drive.mount('/content/gdrive')\n",
        "combined_data = pd.read_csv('/content/gdrive/My Drive/processed_data.csv')"
      ]
    },
    {
      "cell_type": "code",
      "execution_count": null,
      "metadata": {
        "id": "cCXZhb00Ne00"
      },
      "outputs": [],
      "source": [
        "combined_data[\"Label\"].unique()\n",
        "benign_count = (combined_data['Label'] == 'Benign').sum()\n",
        "attack_count = (combined_data['Label'] != 'Benign').sum()\n",
        "\n",
        "# Print the counts\n",
        "print(f\"Benign traffic count: {benign_count}\")\n",
        "print(f\"Attack traffic count: {attack_count}\")"
      ]
    },
    {
      "cell_type": "markdown",
      "metadata": {
        "id": "OhRj01sfa84n"
      },
      "source": [
        "# Normalize output for Classification"
      ]
    },
    {
      "cell_type": "code",
      "execution_count": null,
      "metadata": {
        "colab": {
          "base_uri": "https://localhost:8080/"
        },
        "id": "IsG5M9b9a9LD",
        "outputId": "1d78a2b3-f76f-4f3a-d1a6-28a688490769"
      },
      "outputs": [
        {
          "name": "stdout",
          "output_type": "stream",
          "text": [
            "bool\n",
            "<class 'pandas.core.frame.DataFrame'>\n",
            "RangeIndex: 1723800 entries, 0 to 1723799\n",
            "Data columns (total 79 columns):\n",
            " #   Column             Dtype  \n",
            "---  ------             -----  \n",
            " 0   Dst Port           int64  \n",
            " 1   Protocol           int64  \n",
            " 2   Flow Duration      int64  \n",
            " 3   Tot Fwd Pkts       int64  \n",
            " 4   Tot Bwd Pkts       int64  \n",
            " 5   TotLen Fwd Pkts    int64  \n",
            " 6   TotLen Bwd Pkts    int64  \n",
            " 7   Fwd Pkt Len Max    int64  \n",
            " 8   Fwd Pkt Len Min    int64  \n",
            " 9   Fwd Pkt Len Mean   float64\n",
            " 10  Fwd Pkt Len Std    float64\n",
            " 11  Bwd Pkt Len Max    int64  \n",
            " 12  Bwd Pkt Len Min    int64  \n",
            " 13  Bwd Pkt Len Mean   float64\n",
            " 14  Bwd Pkt Len Std    float64\n",
            " 15  Flow Byts/s        float64\n",
            " 16  Flow Pkts/s        float64\n",
            " 17  Flow IAT Mean      float64\n",
            " 18  Flow IAT Std       float64\n",
            " 19  Flow IAT Max       int64  \n",
            " 20  Flow IAT Min       int64  \n",
            " 21  Fwd IAT Tot        int64  \n",
            " 22  Fwd IAT Mean       float64\n",
            " 23  Fwd IAT Std        float64\n",
            " 24  Fwd IAT Max        int64  \n",
            " 25  Fwd IAT Min        int64  \n",
            " 26  Bwd IAT Tot        int64  \n",
            " 27  Bwd IAT Mean       float64\n",
            " 28  Bwd IAT Std        float64\n",
            " 29  Bwd IAT Max        int64  \n",
            " 30  Bwd IAT Min        int64  \n",
            " 31  Fwd PSH Flags      int64  \n",
            " 32  Bwd PSH Flags      int64  \n",
            " 33  Fwd URG Flags      int64  \n",
            " 34  Bwd URG Flags      int64  \n",
            " 35  Fwd Header Len     int64  \n",
            " 36  Bwd Header Len     int64  \n",
            " 37  Fwd Pkts/s         float64\n",
            " 38  Bwd Pkts/s         float64\n",
            " 39  Pkt Len Min        int64  \n",
            " 40  Pkt Len Max        int64  \n",
            " 41  Pkt Len Mean       float64\n",
            " 42  Pkt Len Std        float64\n",
            " 43  Pkt Len Var        float64\n",
            " 44  FIN Flag Cnt       int64  \n",
            " 45  SYN Flag Cnt       int64  \n",
            " 46  RST Flag Cnt       int64  \n",
            " 47  PSH Flag Cnt       int64  \n",
            " 48  ACK Flag Cnt       int64  \n",
            " 49  URG Flag Cnt       int64  \n",
            " 50  CWE Flag Count     int64  \n",
            " 51  ECE Flag Cnt       int64  \n",
            " 52  Down/Up Ratio      int64  \n",
            " 53  Pkt Size Avg       float64\n",
            " 54  Fwd Seg Size Avg   float64\n",
            " 55  Bwd Seg Size Avg   float64\n",
            " 56  Fwd Byts/b Avg     int64  \n",
            " 57  Fwd Pkts/b Avg     int64  \n",
            " 58  Fwd Blk Rate Avg   int64  \n",
            " 59  Bwd Byts/b Avg     int64  \n",
            " 60  Bwd Pkts/b Avg     int64  \n",
            " 61  Bwd Blk Rate Avg   int64  \n",
            " 62  Subflow Fwd Pkts   int64  \n",
            " 63  Subflow Fwd Byts   int64  \n",
            " 64  Subflow Bwd Pkts   int64  \n",
            " 65  Subflow Bwd Byts   int64  \n",
            " 66  Init Fwd Win Byts  int64  \n",
            " 67  Init Bwd Win Byts  int64  \n",
            " 68  Fwd Act Data Pkts  int64  \n",
            " 69  Fwd Seg Size Min   int64  \n",
            " 70  Active Mean        float64\n",
            " 71  Active Std         float64\n",
            " 72  Active Max         int64  \n",
            " 73  Active Min         int64  \n",
            " 74  Idle Mean          float64\n",
            " 75  Idle Std           float64\n",
            " 76  Idle Max           int64  \n",
            " 77  Idle Min           int64  \n",
            " 78  Label              bool   \n",
            "dtypes: bool(1), float64(24), int64(54)\n",
            "memory usage: 1.0 GB\n"
          ]
        }
      ],
      "source": [
        "combined_data['Label'] = combined_data['Label'].apply(lambda x: False if x == 'Benign' else True)\n",
        "\n",
        "print(combined_data['Label'].dtype)\n",
        "combined_data.info()"
      ]
    },
    {
      "cell_type": "code",
      "execution_count": null,
      "metadata": {
        "colab": {
          "base_uri": "https://localhost:8080/"
        },
        "id": "p7CXWWiJVHnX",
        "outputId": "4c6c5e0d-e45a-4fad-d98b-4a53962f5f54"
      },
      "outputs": [
        {
          "name": "stdout",
          "output_type": "stream",
          "text": [
            "Highly correlated features: {'TotLen Fwd Pkts', 'Bwd Header Len', 'Fwd IAT Tot', 'Subflow Bwd Pkts', 'Fwd IAT Mean', 'Bwd Seg Size Avg', 'Pkt Size Avg', 'Fwd IAT Max', 'Fwd Pkt Len Std', 'Subflow Bwd Byts', 'Idle Std', 'SYN Flag Cnt', 'TotLen Bwd Pkts', 'Pkt Len Mean', 'Fwd Seg Size Avg', 'Bwd Pkts/s', 'Flow IAT Max', 'Idle Mean', 'Fwd IAT Std', 'Subflow Fwd Pkts', 'Flow IAT Min', 'Fwd Header Len', 'Pkt Len Min', 'ECE Flag Cnt', 'Active Min', 'Fwd IAT Min', 'Idle Max', 'Pkt Len Std', 'Subflow Fwd Byts', 'Fwd Pkts/s', 'Fwd Act Data Pkts'}\n",
            "\n",
            "Features with weak correlation to the target: Index(['Flow Duration', 'Tot Fwd Pkts', 'Tot Bwd Pkts', 'TotLen Fwd Pkts',\n",
            "       'TotLen Bwd Pkts', 'Flow IAT Std', 'Flow IAT Max', 'Flow IAT Min',\n",
            "       'Fwd IAT Tot', 'Fwd IAT Std', 'Fwd IAT Max', 'Fwd IAT Min',\n",
            "       'Bwd IAT Min', 'Fwd Header Len', 'Bwd Header Len', 'FIN Flag Cnt',\n",
            "       'PSH Flag Cnt', 'Subflow Fwd Pkts', 'Subflow Fwd Byts',\n",
            "       'Subflow Bwd Pkts', 'Subflow Bwd Byts', 'Fwd Act Data Pkts',\n",
            "       'Idle Mean', 'Idle Std', 'Idle Max'],\n",
            "      dtype='object')\n"
          ]
        }
      ],
      "source": [
        "import pandas as pd\n",
        "import numpy as np\n",
        "\n",
        "\n",
        "correlation_matrix = combined_data.corr()\n",
        "\n",
        "# Identify highly correlated features (threshold = 0.95)\n",
        "correlated_features = set()\n",
        "for i in range(len(correlation_matrix.columns)):\n",
        "    for j in range(i):\n",
        "        if abs(correlation_matrix.iloc[i, j]) > 0.95:\n",
        "            colname = correlation_matrix.columns[i]\n",
        "            correlated_features.add(colname)\n",
        "\n",
        "# Print the highly correlated features\n",
        "print(\"Highly correlated features:\", correlated_features)\n",
        "\n",
        "# Analyzing correlation with the target variable ('Label')\n",
        "corr_with_label = abs(correlation_matrix[\"Label\"])\n",
        "\n",
        "# Selecting features with low correlation to the target (threshold = 0.05)\n",
        "weak_features = corr_with_label[corr_with_label < 0.05].index\n",
        "print(\"\\nFeatures with weak correlation to the target:\", weak_features)"
      ]
    },
    {
      "cell_type": "code",
      "execution_count": null,
      "metadata": {
        "colab": {
          "base_uri": "https://localhost:8080/"
        },
        "id": "PMydy04ZV_aj",
        "outputId": "f38b284f-b1f0-4c9f-b7c1-14e3d0134ce6"
      },
      "outputs": [
        {
          "name": "stdout",
          "output_type": "stream",
          "text": [
            "Index(['Dst Port', 'Protocol', 'Fwd Pkt Len Max', 'Fwd Pkt Len Min',\n",
            "       'Fwd Pkt Len Mean', 'Fwd Pkt Len Std', 'Bwd Pkt Len Max',\n",
            "       'Bwd Pkt Len Min', 'Bwd Pkt Len Mean', 'Bwd Pkt Len Std', 'Flow Byts/s',\n",
            "       'Flow Pkts/s', 'Flow IAT Mean', 'Fwd IAT Mean', 'Bwd IAT Tot',\n",
            "       'Bwd IAT Mean', 'Bwd IAT Std', 'Bwd IAT Max', 'Fwd PSH Flags',\n",
            "       'Bwd PSH Flags', 'Fwd URG Flags', 'Bwd URG Flags', 'Fwd Pkts/s',\n",
            "       'Bwd Pkts/s', 'Pkt Len Min', 'Pkt Len Max', 'Pkt Len Mean',\n",
            "       'Pkt Len Std', 'Pkt Len Var', 'SYN Flag Cnt', 'RST Flag Cnt',\n",
            "       'ACK Flag Cnt', 'URG Flag Cnt', 'CWE Flag Count', 'ECE Flag Cnt',\n",
            "       'Down/Up Ratio', 'Pkt Size Avg', 'Fwd Seg Size Avg', 'Bwd Seg Size Avg',\n",
            "       'Fwd Byts/b Avg', 'Fwd Pkts/b Avg', 'Fwd Blk Rate Avg',\n",
            "       'Bwd Byts/b Avg', 'Bwd Pkts/b Avg', 'Bwd Blk Rate Avg',\n",
            "       'Init Fwd Win Byts', 'Init Bwd Win Byts', 'Fwd Seg Size Min',\n",
            "       'Active Mean', 'Active Std', 'Active Max', 'Active Min', 'Idle Min',\n",
            "       'Label'],\n",
            "      dtype='object')\n",
            "<class 'pandas.core.frame.DataFrame'>\n",
            "RangeIndex: 1723800 entries, 0 to 1723799\n",
            "Data columns (total 54 columns):\n",
            " #   Column             Dtype  \n",
            "---  ------             -----  \n",
            " 0   Dst Port           int64  \n",
            " 1   Protocol           int64  \n",
            " 2   Fwd Pkt Len Max    int64  \n",
            " 3   Fwd Pkt Len Min    int64  \n",
            " 4   Fwd Pkt Len Mean   float64\n",
            " 5   Fwd Pkt Len Std    float64\n",
            " 6   Bwd Pkt Len Max    int64  \n",
            " 7   Bwd Pkt Len Min    int64  \n",
            " 8   Bwd Pkt Len Mean   float64\n",
            " 9   Bwd Pkt Len Std    float64\n",
            " 10  Flow Byts/s        float64\n",
            " 11  Flow Pkts/s        float64\n",
            " 12  Flow IAT Mean      float64\n",
            " 13  Fwd IAT Mean       float64\n",
            " 14  Bwd IAT Tot        int64  \n",
            " 15  Bwd IAT Mean       float64\n",
            " 16  Bwd IAT Std        float64\n",
            " 17  Bwd IAT Max        int64  \n",
            " 18  Fwd PSH Flags      int64  \n",
            " 19  Bwd PSH Flags      int64  \n",
            " 20  Fwd URG Flags      int64  \n",
            " 21  Bwd URG Flags      int64  \n",
            " 22  Fwd Pkts/s         float64\n",
            " 23  Bwd Pkts/s         float64\n",
            " 24  Pkt Len Min        int64  \n",
            " 25  Pkt Len Max        int64  \n",
            " 26  Pkt Len Mean       float64\n",
            " 27  Pkt Len Std        float64\n",
            " 28  Pkt Len Var        float64\n",
            " 29  SYN Flag Cnt       int64  \n",
            " 30  RST Flag Cnt       int64  \n",
            " 31  ACK Flag Cnt       int64  \n",
            " 32  URG Flag Cnt       int64  \n",
            " 33  CWE Flag Count     int64  \n",
            " 34  ECE Flag Cnt       int64  \n",
            " 35  Down/Up Ratio      int64  \n",
            " 36  Pkt Size Avg       float64\n",
            " 37  Fwd Seg Size Avg   float64\n",
            " 38  Bwd Seg Size Avg   float64\n",
            " 39  Fwd Byts/b Avg     int64  \n",
            " 40  Fwd Pkts/b Avg     int64  \n",
            " 41  Fwd Blk Rate Avg   int64  \n",
            " 42  Bwd Byts/b Avg     int64  \n",
            " 43  Bwd Pkts/b Avg     int64  \n",
            " 44  Bwd Blk Rate Avg   int64  \n",
            " 45  Init Fwd Win Byts  int64  \n",
            " 46  Init Bwd Win Byts  int64  \n",
            " 47  Fwd Seg Size Min   int64  \n",
            " 48  Active Mean        float64\n",
            " 49  Active Std         float64\n",
            " 50  Active Max         int64  \n",
            " 51  Active Min         int64  \n",
            " 52  Idle Min           int64  \n",
            " 53  Label              bool   \n",
            "dtypes: bool(1), float64(20), int64(33)\n",
            "memory usage: 698.7 MB\n"
          ]
        }
      ],
      "source": [
        "# Drop the weak features from the DataFrame\n",
        "combined_data_filtered = combined_data.drop(weak_features, axis=1)\n",
        "\n",
        "# Print the columns of the filtered DataFrame to verify\n",
        "combined_data_filtered.dropna()\n",
        "print(combined_data_filtered.columns)\n",
        "combined_data_filtered.info()"
      ]
    },
    {
      "cell_type": "code",
      "execution_count": null,
      "metadata": {
        "colab": {
          "base_uri": "https://localhost:8080/",
          "height": 1000
        },
        "id": "EC3koIslCCbR",
        "outputId": "b99d699f-69f4-4eb7-f3b6-1dcd2e1fb69c"
      },
      "outputs": [],
      "source": [
        "correlation_matrix = combined_data.corr()\n",
        "\n",
        "# Print the correlation matrix\n",
        "print(correlation_matrix)\n",
        "\n",
        "# Optionally, you can print the correlation matrix with formatting for better readability\n",
        "print(correlation_matrix.to_string())\n",
        "\n",
        "\n",
        "import seaborn as sns\n",
        "import matplotlib.pyplot as plt\n",
        "\n",
        "sns.heatmap(correlation_matrix, annot=True, cmap='coolwarm')\n",
        "plt.show()\n",
        "\n",
        "pd.plotting.scatter_matrix(combined_data, alpha=0.5, figsize=(15, 15))\n",
        "plt.show()"
      ]
    },
    {
      "cell_type": "code",
      "execution_count": null,
      "metadata": {
        "colab": {
          "base_uri": "https://localhost:8080/"
        },
        "id": "_jRCdDVETtqP",
        "outputId": "2d27dcd7-8712-4e20-e571-2bf027a30b75"
      },
      "outputs": [
        {
          "name": "stdout",
          "output_type": "stream",
          "text": [
            "Validation Accuracy: 0.9999118860245728\n",
            "Test Accuracy: 0.999898258278627\n"
          ]
        }
      ],
      "source": [
        "import pandas as pd\n",
        "from sklearn.model_selection import train_test_split\n",
        "from sklearn.ensemble import RandomForestClassifier\n",
        "from sklearn.metrics import accuracy_score\n",
        "\n",
        "combined_data_filtered = combined_data_filtered.reset_index(drop=True)\n",
        "combined_data_filtered.dropna()\n",
        "\n",
        "combined_data_filtered = combined_data_filtered.reset_index(drop=True)\n",
        "X = combined_data_filtered.drop('Label', axis=1)\n",
        "y = combined_data_filtered['Label']\n",
        "\n",
        "\n",
        "# Split data into train, validation, and test sets (80/10/10 split)\n",
        "X_train_val, X_test, y_train_val, y_test = train_test_split(X, y, test_size=0.12, random_state=42)\n",
        "X_train, X_val, y_train, y_val = train_test_split(X_train_val, y_train_val, test_size=0.12, random_state=42)\n",
        "\n",
        "# Drop rows with NaNs or infinities from each set separately\n",
        "X_train_dropped = X_train.replace([np.inf, -np.inf], np.nan).dropna()\n",
        "y_train_dropped = y_train[X_train_dropped.index]\n",
        "\n",
        "X_val_dropped = X_val.replace([np.inf, -np.inf], np.nan).dropna()\n",
        "y_val_dropped = y_val[X_val_dropped.index]\n",
        "\n",
        "X_test_dropped = X_test.replace([np.inf, -np.inf], np.nan).dropna()\n",
        "y_test_dropped = y_test[X_test_dropped.index]\n",
        "\n",
        "# Create Random Forest classifier\n",
        "rf_model = RandomForestClassifier(random_state=42)\n",
        "\n",
        "# Train the model on the training set\n",
        "rf_model.fit(X_train_dropped, y_train_dropped)\n",
        "\n",
        "# Make predictions on the validation set\n",
        "y_val_pred = rf_model.predict(X_val_dropped)\n",
        "\n",
        "# Evaluate the model on the validation set (using y_val_dropped for consistency)\n",
        "val_accuracy = accuracy_score(y_val_dropped, y_val_pred)\n",
        "print(f\"Validation Accuracy: {val_accuracy}\")\n",
        "\n",
        "# Make predictions on the test set (using X_test_dropped)\n",
        "y_test_pred = rf_model.predict(X_test_dropped)\n",
        "\n",
        "# Evaluate the model on the test set (using y_test_dropped)\n",
        "test_accuracy = accuracy_score(y_test_dropped, y_test_pred)\n",
        "print(f\"Test Accuracy: {test_accuracy}\")\n"
      ]
    },
    {
      "cell_type": "code",
      "execution_count": null,
      "metadata": {
        "colab": {
          "base_uri": "https://localhost:8080/",
          "height": 678
        },
        "id": "-d5skSNj_90r",
        "outputId": "9f5b7044-eefb-43a8-c92a-b5e2e1969cbb"
      },
      "outputs": [
        {
          "data": {
            "image/png": "[encoded data removed]",
            "text/plain": [
              "<Figure size 1000x600 with 1 Axes>"
            ]
          },
          "metadata": {},
          "output_type": "display_data"
        }
      ],
      "source": [
        "import matplotlib.pyplot as plt\n",
        "\n",
        "# Get feature importances\n",
        "importances = rf_model.feature_importances_\n",
        "\n",
        "# Create a feature importance plot\n",
        "plt.figure(figsize=(10, 6))\n",
        "plt.bar(X_train.columns, importances)\n",
        "plt.xlabel(\"Features\")\n",
        "plt.ylabel(\"Importance\")\n",
        "plt.title(\"Feature Importance in Random Forest Model\")\n",
        "plt.xticks(rotation=90)  # Rotate x-axis labels for readability\n",
        "plt.show()"
      ]
    },
    {
      "cell_type": "code",
      "execution_count": null,
      "metadata": {
        "colab": {
          "base_uri": "https://localhost:8080/",
          "height": 564
        },
        "id": "inAMK5xy_tSa",
        "outputId": "b04eba35-e223-4eff-eb6b-7b3cd0d33a18"
      },
      "outputs": [
        {
          "data": {
            "image/png": "[encoded data removed]",
            "text/plain": [
              "<Figure size 800x600 with 2 Axes>"
            ]
          },
          "metadata": {},
          "output_type": "display_data"
        }
      ],
      "source": [
        "from sklearn.metrics import confusion_matrix\n",
        "import seaborn as sns\n",
        "\n",
        "# Get predictions on the test set (or validation set)\n",
        "y_pred = rf_model.predict(X_test_dropped)\n",
        "\n",
        "# Create confusion matrix\n",
        "cm = confusion_matrix(y_test_dropped, y_pred)\n",
        "\n",
        "# Plot the confusion matrix using seaborn\n",
        "plt.figure(figsize=(8, 6))\n",
        "sns.heatmap(cm, annot=True, fmt='g', cmap='Blues')\n",
        "plt.xlabel(\"Predicted labels\")\n",
        "plt.ylabel(\"True labels\")\n",
        "plt.title(\"Confusion Matrix\")\n",
        "plt.show()"
      ]
    },
    {
      "cell_type": "code",
      "execution_count": null,
      "metadata": {
        "id": "Y7fIospG_tU_"
      },
      "outputs": [],
      "source": []
    }
  ],
  "metadata": {
    "accelerator": "TPU",
    "colab": {
      "gpuType": "V28",
      "provenance": []
    },
    "kernelspec": {
      "display_name": "Python 3",
      "name": "python3"
    },
    "language_info": {
      "name": "python"
    }
  },
  "nbformat": 4,
  "nbformat_minor": 0
}
